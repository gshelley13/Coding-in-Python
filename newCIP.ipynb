{
 "cells": [
  {
   "cell_type": "markdown",
   "metadata": {},
   "source": [
    "Coding in Python: Gabby Shelley "
   ]
  },
  {
   "cell_type": "markdown",
   "metadata": {},
   "source": [
    "The Jupyter Notebook I chose was the [Analyzing whale tracks](http://earthpy.org/analyzing-whale-tracks.html) within EarthPy. I thought it was interesting because it tracks the migration of whales and if they are choosing certain paths over others. Rob De Almeida wanted to understand if whales were utilizing ocean currents or not. Through tracing the whale's trejectory, De Almeida then imported the optimal track of the currents on the same map. By using geospatial information, De Almeida was able to determine that the whale trajectory essentially did follow the optimal route. "
   ]
  },
  {
   "cell_type": "markdown",
   "metadata": {},
   "source": [
    "To me, it seems like the 4 most popular Python packages are: [NumPy](http://www.numpy.org/), [Scrapy](https://scrapy.org/), [Requests](http://www.python-requests.org/en/master/), and [Pillow](https://python-pillow.org/). These 4 packages help with scientific computing, extracting data, limiting manual labor for requests, and working with images. NumPy gives users access to a number of operations to ease numerical computations within Python. Scrapy on the other hand works with data extraction from websites, and greatly minimizes the effort of the user. These packages allow coders to increase the ability of Python and ease their own coding in the process. "
   ]
  },
  {
   "cell_type": "markdown",
   "metadata": {},
   "source": [
    "Since the packages within Python are not the same as they are in R, we need to find alternatives that are similar to the processing in R. In R we use ggplot for data visualization, but we can't use this in Python. For Python, a similar package would be [plotnine](https://plotnine.readthedocs.io/en/stable/). It is based on ggplot2 in R, and does the same process as ggplot2. "
   ]
  },
  {
   "cell_type": "markdown",
   "metadata": {},
   "source": [
    "From what I found, the Python library that works with dataframes is [pandas](https://pandas.pydata.org/). This library is used for data manipulaiton and aggregation as well as visualization. "
   ]
  },
  {
   "cell_type": "markdown",
   "metadata": {},
   "source": [
    "Python reads cells in the left to right format, just like how we read. Whereas, R reads chunks inside to out. This makes Python syntax a bit easier to write for coders. When you call packages you simply type \"import\", in R its just a tad more difficult. But that being said, Python has less libraries than R does. "
   ]
  },
  {
   "cell_type": "code",
   "execution_count": 1,
   "metadata": {},
   "outputs": [
    {
     "name": "stdout",
     "output_type": "stream",
     "text": [
      "Let's go swimming in the ocean.\n"
     ]
    }
   ],
   "source": [
    "a = \"Let's\"\n",
    "b = \"go\"\n",
    "c = \"swimming\"\n",
    "d = \"in\"\n",
    "e = \"the\"\n",
    "f = \"ocean.\"\n",
    "coat = a + \" \" + b + \" \" + c + \" \" + d + \" \" + e + \" \" + f\n",
    "print(coat)"
   ]
  },
  {
   "cell_type": "code",
   "execution_count": 2,
   "metadata": {},
   "outputs": [
    {
     "name": "stdout",
     "output_type": "stream",
     "text": [
      "Let's go swimming 7 in the ocean.\n"
     ]
    }
   ],
   "source": [
    "x = 7\n",
    "this = a + \" \" + b + \" \" + c + \" \" + str(x) + \" \" + d + \" \" + e + \" \" + f\n",
    "print(this)"
   ]
  },
  {
   "cell_type": "code",
   "execution_count": 3,
   "metadata": {},
   "outputs": [
    {
     "name": "stdout",
     "output_type": "stream",
     "text": [
      "LET'S GO SWIMMING 7 IN THE OCEAN.\n"
     ]
    }
   ],
   "source": [
    "print str.upper(this)"
   ]
  },
  {
   "cell_type": "code",
   "execution_count": 4,
   "metadata": {},
   "outputs": [
    {
     "name": "stdout",
     "output_type": "stream",
     "text": [
      "[\"Let's\", 'go', 'swimming', '7', 'in', 'the', 'ocean.']\n"
     ]
    }
   ],
   "source": [
    "jam = [ a, b, c, str(x), d, e, f]\n",
    "print(jam)"
   ]
  },
  {
   "cell_type": "code",
   "execution_count": 5,
   "metadata": {},
   "outputs": [
    {
     "name": "stdout",
     "output_type": "stream",
     "text": [
      "Let's go swimming 7 in the ocean.\n"
     ]
    }
   ],
   "source": [
    "seperator = \" \"\n",
    "print(seperator.join(jam))"
   ]
  },
  {
   "cell_type": "code",
   "execution_count": 6,
   "metadata": {},
   "outputs": [
    {
     "data": {
      "text/plain": [
       "3"
      ]
     },
     "execution_count": 6,
     "metadata": {},
     "output_type": "execute_result"
    }
   ],
   "source": [
    "coat.count('e')"
   ]
  },
  {
   "cell_type": "code",
   "execution_count": 7,
   "metadata": {},
   "outputs": [
    {
     "data": {
      "text/plain": [
       "25"
      ]
     },
     "execution_count": 7,
     "metadata": {},
     "output_type": "execute_result"
    }
   ],
   "source": [
    "coat.find('ocean')"
   ]
  },
  {
   "cell_type": "code",
   "execution_count": 8,
   "metadata": {},
   "outputs": [
    {
     "name": "stdout",
     "output_type": "stream",
     "text": [
      "Let's go swimmi\n"
     ]
    }
   ],
   "source": [
    "first_half = len(coat)\n",
    "print(coat[0:first_half/2])"
   ]
  },
  {
   "cell_type": "code",
   "execution_count": 9,
   "metadata": {},
   "outputs": [
    {
     "data": {
      "text/plain": [
       "\"Let's go swimming in the ocean.\""
      ]
     },
     "execution_count": 9,
     "metadata": {},
     "output_type": "execute_result"
    }
   ],
   "source": [
    "coat.replace(\"7\", \"\")"
   ]
  },
  {
   "cell_type": "code",
   "execution_count": 10,
   "metadata": {},
   "outputs": [
    {
     "name": "stdout",
     "output_type": "stream",
     "text": [
      "Let's go swimming in the stars.\n"
     ]
    }
   ],
   "source": [
    "pencil = coat.replace(\"ocean\", \"stars\")\n",
    "print(pencil)"
   ]
  },
  {
   "cell_type": "code",
   "execution_count": 11,
   "metadata": {},
   "outputs": [
    {
     "name": "stdout",
     "output_type": "stream",
     "text": [
      "[\"Let's\", 'go', 'swimming', 'in', 'the', 'stars.']\n"
     ]
    }
   ],
   "source": [
    "notes = pencil.split()\n",
    "print(notes)"
   ]
  },
  {
   "cell_type": "code",
   "execution_count": 13,
   "metadata": {},
   "outputs": [
    {
     "name": "stdout",
     "output_type": "stream",
     "text": [
      "[\"Let's\", 'go', 'night', 'swimming', 'in', 'the', 'stars.']\n"
     ]
    }
   ],
   "source": [
    "print(notes)"
   ]
  },
  {
   "cell_type": "code",
   "execution_count": 14,
   "metadata": {},
   "outputs": [
    {
     "name": "stdout",
     "output_type": "stream",
     "text": [
      "65\n"
     ]
    }
   ],
   "source": [
    "import random\n",
    "x = random.randint(1,100) \n",
    "print x\n",
    "if x == 6:\n",
    "        print \"You win!\""
   ]
  },
  {
   "cell_type": "code",
   "execution_count": 15,
   "metadata": {},
   "outputs": [
    {
     "name": "stdout",
     "output_type": "stream",
     "text": [
      "77\n",
      "4th Quartile\n"
     ]
    }
   ],
   "source": [
    "y = random.randint(1,100)\n",
    "print y \n",
    "if y <= 25:\n",
    "        print \"1st Quartile\"\n",
    "if y > 25 and y <= 50:\n",
    "        print \"2nd Quartile\"\n",
    "if y > 50 and y <= 75:\n",
    "        print \"3rd Quartile\"\n",
    "if y > 75 and y <= 100:\n",
    "        print \"4th Quartile\"\n",
    "        "
   ]
  },
  {
   "cell_type": "code",
   "execution_count": 32,
   "metadata": {},
   "outputs": [
    {
     "name": "stdout",
     "output_type": "stream",
     "text": [
      "Warning, residents of Austin, temperatures will reach sub-zero temperatures today, please stay indoors if possible.\n",
      "Warning, residents of Boston, temperatures will reach sub-zero temperatures today, please stay indoors if possible.\n",
      "Warning, residents of Chicago, temperatures will reach sub-zero temperatures today, please stay indoors if possible.\n",
      "Warning, residents of Whitefish, temperatures will reach sub-zero temperatures today, please stay indoors if possible.\n",
      "Warning, residents of Phoenix, temperatures will reach sub-zero temperatures today, please stay indoors if possible.\n",
      "Warning, residents of Nashville, temperatures will reach sub-zero temperatures today, please stay indoors if possible.\n"
     ]
    }
   ],
   "source": [
    "cities = [\"Austin\", \"Boston\", \"Chicago\", \"Whitefish\", \"Phoenix\", \"Nashville\"]\n",
    "for cities in cities:\n",
    "    print(\"Warning, residents of \" + cities + \", temperatures will reach sub-zero temperatures today, please stay indoors if possible.\")"
   ]
  },
  {
   "cell_type": "code",
   "execution_count": 36,
   "metadata": {},
   "outputs": [
    {
     "name": "stdout",
     "output_type": "stream",
     "text": [
      "U://Users/Zhang/Geog_458/Washington.shp\n",
      "U://Users/Zhang/Geog_458/California.shp\n",
      "U://Users/Zhang/Geog_458/Nevada.shp\n",
      "U://Users/Zhang/Geog_458/Idaho.shp\n",
      "U://Users/Zhang/Geog_458/Montana.shp\n",
      "U://Users/Zhang/Geog_458/Utah.shp\n",
      "U://Users/Zhang/Geog_458/Colorado.shp\n",
      "U://Users/Zhang/Geog_458/New Mexico.shp\n"
     ]
    }
   ],
   "source": [
    "listobject = []\n",
    "files = [\"Washington\", \"California\", \"Nevada\", \"Idaho\", \"Montana\", \"Utah\", \"Colorado\", \"New Mexico\"]\n",
    "for cities in files:\n",
    "    print(\"U://Users/Zhang/Geog_458/\" + cities + \".shp\")"
   ]
  },
  {
   "cell_type": "code",
   "execution_count": 48,
   "metadata": {},
   "outputs": [
    {
     "name": "stdout",
     "output_type": "stream",
     "text": [
      "T-minus 10\n",
      "T-minus 9\n",
      "T-minus 8\n",
      "T-minus 7\n",
      "T-minus 6\n",
      "T-minus 5\n",
      "T-minus 4\n",
      "T-minus 3\n",
      "T-minus 2\n",
      "T-minus 1\n",
      "T-minus 0\n"
     ]
    }
   ],
   "source": [
    "k = 10\n",
    "while k >= 0:\n",
    "    print (\"T-minus \" + str(k)) \n",
    "    k -= 1"
   ]
  },
  {
   "cell_type": "code",
   "execution_count": 53,
   "metadata": {},
   "outputs": [
    {
     "name": "stdout",
     "output_type": "stream",
     "text": [
      "50\n",
      "49\n",
      "48\n",
      "47\n",
      "46\n",
      "45\n",
      "44\n",
      "43\n",
      "42\n",
      "41\n",
      "40\n",
      "39\n",
      "38\n",
      "37\n",
      "36\n",
      "35\n",
      "34\n",
      "33\n",
      "32\n",
      "31\n",
      "30\n",
      "29\n",
      "28\n",
      "27\n",
      "26\n",
      "25\n",
      "24\n",
      "23\n",
      "22\n",
      "21\n",
      "20\n",
      "19\n",
      "18\n",
      "17\n",
      "16\n",
      "15\n",
      "14\n",
      "13\n",
      "12\n",
      "11\n",
      "10\n",
      "9\n",
      "8\n",
      "7\n",
      "6\n",
      "5\n",
      "4\n",
      "3\n",
      "2\n",
      "1\n",
      "0\n"
     ]
    }
   ],
   "source": [
    "import time\n",
    "def countdown(h) :\n",
    "    while h >= 0:\n",
    "        print (h)\n",
    "        h = h - 1\n",
    "countdown(50)"
   ]
  },
  {
   "cell_type": "code",
   "execution_count": 92,
   "metadata": {},
   "outputs": [
    {
     "name": "stdout",
     "output_type": "stream",
     "text": [
      "1st Quartile\n"
     ]
    }
   ],
   "source": [
    "def quartile_calc(y):\n",
    "    if y <= 25:\n",
    "            print \"1st Quartile\"\n",
    "    if y > 25 and y <= 50:\n",
    "            print \"2nd Quartile\"\n",
    "    if y > 50 and y <= 75:\n",
    "            print \"3rd Quartile\"\n",
    "    if y > 75 and y <= 100:\n",
    "            print \"4th Quartile\"\n",
    "    if y < 0 and y > 100:\n",
    "            print \"Error\"\n",
    "quartile_calc(7)"
   ]
  },
  {
   "cell_type": "code",
   "execution_count": null,
   "metadata": {},
   "outputs": [],
   "source": []
  }
 ],
 "metadata": {
  "kernelspec": {
   "display_name": "Python 2",
   "language": "python",
   "name": "python2"
  },
  "language_info": {
   "codemirror_mode": {
    "name": "ipython",
    "version": 2
   },
   "file_extension": ".py",
   "mimetype": "text/x-python",
   "name": "python",
   "nbconvert_exporter": "python",
   "pygments_lexer": "ipython2",
   "version": "2.7.15"
  }
 },
 "nbformat": 4,
 "nbformat_minor": 2
}
